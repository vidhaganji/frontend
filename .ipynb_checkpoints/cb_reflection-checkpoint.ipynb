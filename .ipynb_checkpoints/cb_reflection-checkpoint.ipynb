{
 "cells": [
  {
   "cell_type": "markdown",
   "id": "e2d97ac8-02d7-446b-b750-46bdee756a9e",
   "metadata": {},
   "source": [
    "---\n",
    "toc: True\n",
    "comments: True\n",
    "layout: post\n",
    "title: College Board Questions MC Correction \n",
    "description: This is a reflection on my CB MC. \n",
    "type: tangibles\n",
    "courses: { compsci: {week: 11} }\n",
    "---"
   ]
  },
  {
   "cell_type": "markdown",
   "id": "2db9ce54-3e2b-43c3-a040-0cff2023e337",
   "metadata": {},
   "source": [
    "\n",
    "\n",
    "# Test Corrections\n",
    "## 59/67\n",
    "\n",
    "## (1) Cause of Overflow Error\n",
    "\n",
    "- I got this question wrong as I did not properly understand the definition of an overflow error. During the quiz, I looked it up and thought that the definition Google provided me with implied that overflow is a result of integers being stored in decimal forms which results in a rounding error. Now that I think about it, the term \"overflow\" implies that the computer/machine is unable to store something which is more in line with the correct answer. The correct answer as written on CollegeBoard is that an overflow error occurs because \"the program can only use a fixed number of bits to represent integers and the computed sum is greater than the maximum representable value.\" This definition explained to me what an overflow error meant and I now understand that these errors occur due to the results of arithmetic operations being outside the range of numbers that are able to be represented by a specified number of bits. To make sure I don't repeat this mistake, I will watch the Daily Videos recommended by CB for this question.\n",
    "\n",
    "## (2) Science Museum Tickets\n",
    "\n",
    "- This question was a simple mistake on my part. I should have been more careful in interpreting the code. The reason my answer option was wrong was due to the if conditional contained both the age and includesTour variables where it instead should have created two separate if conditionals. The table in the problem had stated how if the child was older than 12, the general admission cost was 8 dollars whereas the guided tour cost was 10 dollars. From this, we can easily see that we would need two separate conditional statements instead of one as we would need to output the cost. To prevent errors like this in the future, I will be sure to consider all answer options instead of only coming up with an answer and looking for an option that fits.\n",
    "\n",
    "## (3) Compare Output of Program a and b\n",
    "\n",
    "- My mistake on this problem was a result of not applying my knowledge of loops properly. Some wrong assumptions that I had made when solving the problem was thinking that i would reset back to 1 when the loop restarted. This reflects a glaring problem in my understanding of loops. I now realize that the \"repeat\" statement signals the repeating portion of the code and the assignment of 1 to i only occurs when the code is initially run and not during the repeated iterations of the remaining code.\n",
    "\n",
    "## (4) Algorithm to Move Robot to Goal\n",
    "\n",
    "- The mistake on this question was a result of me forgetting that a conditional inside of a loop has to evaluate to something as a result. I did not realize that the \"CAN_MOVE (forward) = false\" statement in A and B was important when doing the question. Now I understand that for the code inside the loop only has to run only when the robot has the ability to move forward. As soon as this is not true and the robot has to turn right (when the statement evaluates to false), the robot will then rotate right. I will be more careful with such questions next time by making sure to carefully consider all of the answer options and each of the differences between them instead of jumping between answers.\n",
    "\n",
    "## (5) Simulation of Spinner\n",
    "\n",
    "- In this question, I was confused by options C and D due to their similarity. I was able to understand the spin variable would have to be a random number between 1 and 8 due to the presence of 8 partitions in the spinner instead of 6. I clicked option C as I had thought that due to the \"Move 1 space\" being the bigger partition, it would have to occur when spin = 1. This was an obvious error in my understanding and ability to apply if/else statements in pseudocode. I can now see that D is the right answer due to the else statement having a 6/8 chance of occurring (whereas the other two conditionals have a 1/8 chance of occurring). As a result, the bigger partition in the spinner would have to be assigned to the else statements. To prevent mistakes like this in the future, I will visualize the pseudocode at a greater depth and write down the result/output of each option.\n",
    "\n",
    "## (6) Flowchart to Set Available\n",
    "\n",
    "- This question focuses on the concept of AND/OR statements. I had thought that answer option C was correct due to me forgetting that OR evaluates to True only when at least one of the values is True. This does not apply to the flowchart as when WEEKDAY evaluates to true and the MILES condition evaluates to false, the AVAILABLE variable also evaluates to false. If this represented an OR statement, AVAILABLE would evaluate to True as at least one of its arguments (WEEKDAY) evaluated to True.\n",
    "\n",
    "## (7) BotMover\n",
    "\n",
    "- My mistake on this question was due to me not visualizing and drawing the results of each of the options on paper. If I had done that, I would have observed that answer option B would have resulted in the robot ending up back at its original spot. After noticing that I got this question wrong, I drew each of the other options out and now see that C is the correct answer as A makes the robot move off of the grid and D ends with the robot at the upper left corner.\n",
    "\n",
    "## (8) Determine if score is within 10 points of target\n",
    "\n",
    "- Similar to #6 above, my mistake on this question was a result of a lack of understanding on my part of AND/OR statements. A is incorrect as according to the problem statement, if SCORE is within 10 points of TARGET, then the statement should evaluate to True. However, in option A, the presence of AND would make the statement evaluate to False if the first or second argument was False despite SCORE being 10 less than/greater than TARGET. I now see that D is the correct answer as the two arguments set a bound of 10 on either side of TARGET and if one of the arguments is False, it would mean that the score does not fall within the needed range.\n",
    "\n",
    "## Reflection\n",
    "\n",
    "There were several questions on the quiz that required me to translate the \"code\" which was written in either a graphical mechanism or in text to the result that it would output. I think that despite me getting a majority of these questions right, I struggled with them the most as it was difficult to picture the code in my head. Next time we do these types of quizzes, I intend on spending more time on these pseudocode oriented questions as I am easily confused by them. As seen in the test corrections, a majority of the questions I missed were problems of such types (ex. the BotMover and the algorithm to move the robot to the goal). After making a note of the questions I got wrong on the quiz, I made sure to go back to the corresponding team teaches (some questions were not related to any of our team teach concepts; for these questions, I used the CB Daily Videos/other AP resources) to clarify any concepts that did not stick in my head. The best example of this was AND/OR statements which was the concept that 2 of the questions I got wrong on the quiz were based off of. I reviewed the material by watching the corresponding Daily Video and trying the same questions again which I ended up getting right. I will also make sure to practice more questions of the same type so that I do not make the same mistake in the future.\n",
    "\n",
    "I also did not know a lot of the questions about defining certain concepts such as fault tolerance and IP addresses. During the quiz, I had to refer to the team teaches and other resources to find the Collegeboard definitions for these concepts. Following the quiz, I worked on memorizing and truly understanding these concepts as reading the definitions alone on the team teaches/other resources was not enough for me to understand the material. I think that I will continue following this approach to learn any new material that is based on definitions/ideas instead of code.\n"
   ]
  }
 ],
 "metadata": {
  "kernelspec": {
   "display_name": "Python 3 (ipykernel)",
   "language": "python",
   "name": "python3"
  },
  "language_info": {
   "codemirror_mode": {
    "name": "ipython",
    "version": 3
   },
   "file_extension": ".py",
   "mimetype": "text/x-python",
   "name": "python",
   "nbconvert_exporter": "python",
   "pygments_lexer": "ipython3",
   "version": "3.11.7"
  }
 },
 "nbformat": 4,
 "nbformat_minor": 5
}
